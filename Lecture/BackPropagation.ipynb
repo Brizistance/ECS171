{
 "cells": [
  {
   "cell_type": "code",
   "execution_count": null,
   "id": "1040ea20",
   "metadata": {},
   "outputs": [],
   "source": [
    "#placeholder"
   ]
  }
 ],
 "metadata": {
  "language_info": {
   "name": "python"
  }
 },
 "nbformat": 4,
 "nbformat_minor": 5
}
